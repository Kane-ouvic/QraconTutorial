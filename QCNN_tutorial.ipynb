{
 "cells": [
  {
   "cell_type": "markdown",
   "id": "0a19c615",
   "metadata": {},
   "source": [
    "# 量子卷積神經網絡（QCNN）教學"
   ]
  },
  {
   "cell_type": "markdown",
   "id": "e4082008",
   "metadata": {},
   "source": [
    "## 介紹\n",
    "量子卷積神經網絡（Quantum Convolutional Neural Network, QCNN）是一種結合量子計算和卷積神經網絡的混合模型。這種模型利用量子計算的特性來提升神經網絡的性能。"
   ]
  },
  {
   "cell_type": "markdown",
   "id": "38337dbe",
   "metadata": {},
   "source": [
    "## 目標\n",
    "在本教學中，我們將介紹如何使用 Python 和 PennyLane 庫來構建一個簡單的 QCNN。"
   ]
  },
  {
   "cell_type": "markdown",
   "id": "67c99b00",
   "metadata": {},
   "source": [
    "## 步驟\n",
    "### 步驟 1：安裝所需庫\n",
    "我們需要安裝 PennyLane 和其他一些依賴庫。"
   ]
  },
  {
   "cell_type": "code",
   "execution_count": null,
   "id": "ea92a64e",
   "metadata": {},
   "outputs": [],
   "source": [
    "!pip install pennylane pennylane-qiskit matplotlib"
   ]
  },
  {
   "cell_type": "markdown",
   "id": "de90f468",
   "metadata": {},
   "source": [
    "### 步驟 2：導入所需模組"
   ]
  },
  {
   "cell_type": "code",
   "execution_count": null,
   "id": "595e0bc3",
   "metadata": {},
   "outputs": [],
   "source": [
    "import pennylane as qml\n",
    "from pennylane import numpy as np\n",
    "import matplotlib.pyplot as plt"
   ]
  },
  {
   "cell_type": "markdown",
   "id": "50ad3e60",
   "metadata": {},
   "source": [
    "### 步驟 3：定義量子卷積層\n",
    "量子卷積層由一組量子門操作組成，用於對輸入量子態進行卷積操作。"
   ]
  },
  {
   "cell_type": "code",
   "execution_count": null,
   "id": "89fd43b2",
   "metadata": {},
   "outputs": [],
   "source": [
    "def quantum_conv_layer(qubits, params):\n",
    "    n_qubits = len(qubits)\n",
    "    for i in range(n_qubits):\n",
    "        qml.Rot(*params[i], wires=qubits[i])\n",
    "    for i in range(n_qubits - 1):\n",
    "        qml.CNOT(wires=[qubits[i], qubits[i + 1]])"
   ]
  },
  {
   "cell_type": "markdown",
   "id": "98da080c",
   "metadata": {},
   "source": [
    "### 步驟 4：定義量子池化層\n",
    "量子池化層用於減少量子態的維度。"
   ]
  },
  {
   "cell_type": "code",
   "execution_count": null,
   "id": "22623eba",
   "metadata": {},
   "outputs": [],
   "source": [
    "def quantum_pooling_layer(qubits):\n",
    "    for i in range(0, len(qubits), 2):\n",
    "        qml.CNOT(wires=[qubits[i], qubits[i + 1]])\n",
    "        qml.RY(-np.pi / 2, wires=qubits[i + 1])\n",
    "        qml.CNOT(wires=[qubits[i], qubits[i + 1]])\n",
    "        qml.RY(np.pi / 2, wires=qubits[i + 1])\n",
    "        qml.PauliX(wires=qubits[i + 1])"
   ]
  },
  {
   "cell_type": "markdown",
   "id": "32277c60",
   "metadata": {},
   "source": [
    "### 步驟 5：定義QCNN模型"
   ]
  },
  {
   "cell_type": "code",
   "execution_count": null,
   "id": "350ba1c1",
   "metadata": {},
   "outputs": [],
   "source": [
    "n_qubits = 4  # 使用4個量子比特\n",
    "dev = qml.device('default.qubit', wires=n_qubits)\n",
    "\n",
    "@qml.qnode(dev)\n",
    "def QCNN_circuit(params):\n",
    "    quantum_conv_layer(range(n_qubits), params[0])\n",
    "    quantum_pooling_layer(range(n_qubits))\n",
    "    return [qml.expval(qml.PauliZ(i)) for i in range(n_qubits)]"
   ]
  },
  {
   "cell_type": "markdown",
   "id": "2e3bfebf",
   "metadata": {},
   "source": [
    "### 步驟 6：訓練QCNN\n",
    "我們將使用簡單的隨機梯度下降法來訓練QCNN。"
   ]
  },
  {
   "cell_type": "code",
   "execution_count": null,
   "id": "ba799b0f",
   "metadata": {},
   "outputs": [],
   "source": [
    "def cost(params):\n",
    "    return np.sum(QCNN_circuit(params))\n",
    "\n",
    "params = np.random.randn(2, n_qubits, 3)\n",
    "opt = qml.GradientDescentOptimizer(stepsize=0.4)\n",
    "steps = 100\n",
    "for i in range(steps):\n",
    "    params = opt.step(cost, params)\n",
    "    if (i + 1) % 10 == 0:\n",
    "        print(f\"Step {i+1}, Cost: {cost(params)}\")"
   ]
  },
  {
   "cell_type": "markdown",
   "id": "cc83b358",
   "metadata": {},
   "source": [
    "### 步驟 7：可視化結果"
   ]
  },
  {
   "cell_type": "code",
   "execution_count": null,
   "id": "ca1d6ec4",
   "metadata": {},
   "outputs": [],
   "source": [
    "results = QCNN_circuit(params)\n",
    "plt.bar(range(n_qubits), results)\n",
    "plt.xlabel('Qubit')\n",
    "plt.ylabel('Expectation value')\n",
    "plt.title('QCNN Output')\n",
    "plt.show()"
   ]
  }
 ],
 "metadata": {},
 "nbformat": 4,
 "nbformat_minor": 5
}
